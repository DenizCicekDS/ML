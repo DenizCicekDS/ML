{
 "cells": [
  {
   "cell_type": "code",
   "execution_count": 1,
   "id": "ca109434",
   "metadata": {},
   "outputs": [],
   "source": [
    "import numpy as np\n",
    "import pandas as pd\n",
    "import matplotlib.pyplot as plt\n",
    "import seaborn as sns\n",
    "import scipy.stats as stats\n",
    "plt.rcParams[\"figure.figsize\"] = (10,6)\n",
    "import warnings\n",
    "warnings.filterwarnings('ignore')"
   ]
  },
  {
   "cell_type": "code",
   "execution_count": 2,
   "id": "f471b4bd",
   "metadata": {},
   "outputs": [],
   "source": [
    "df = pd.read_csv(\"car_dataset.csv\")"
   ]
  },
  {
   "cell_type": "code",
   "execution_count": 3,
   "id": "b6561298",
   "metadata": {},
   "outputs": [
    {
     "name": "stdout",
     "output_type": "stream",
     "text": [
      "<class 'pandas.core.frame.DataFrame'>\n",
      "RangeIndex: 301 entries, 0 to 300\n",
      "Data columns (total 9 columns):\n",
      " #   Column         Non-Null Count  Dtype  \n",
      "---  ------         --------------  -----  \n",
      " 0   Car_Name       301 non-null    object \n",
      " 1   Year           301 non-null    int64  \n",
      " 2   Selling_Price  301 non-null    float64\n",
      " 3   Present_Price  301 non-null    float64\n",
      " 4   Kms_Driven     301 non-null    int64  \n",
      " 5   Fuel_Type      301 non-null    object \n",
      " 6   Seller_Type    301 non-null    object \n",
      " 7   Transmission   301 non-null    object \n",
      " 8   Owner          301 non-null    int64  \n",
      "dtypes: float64(2), int64(3), object(4)\n",
      "memory usage: 21.3+ KB\n"
     ]
    }
   ],
   "source": [
    "df.info()"
   ]
  },
  {
   "cell_type": "code",
   "execution_count": 4,
   "id": "250f34fb",
   "metadata": {},
   "outputs": [
    {
     "data": {
      "text/html": [
       "<div>\n",
       "<style scoped>\n",
       "    .dataframe tbody tr th:only-of-type {\n",
       "        vertical-align: middle;\n",
       "    }\n",
       "\n",
       "    .dataframe tbody tr th {\n",
       "        vertical-align: top;\n",
       "    }\n",
       "\n",
       "    .dataframe thead th {\n",
       "        text-align: right;\n",
       "    }\n",
       "</style>\n",
       "<table border=\"1\" class=\"dataframe\">\n",
       "  <thead>\n",
       "    <tr style=\"text-align: right;\">\n",
       "      <th></th>\n",
       "      <th>Car_Name</th>\n",
       "      <th>Year</th>\n",
       "      <th>Selling_Price</th>\n",
       "      <th>Present_Price</th>\n",
       "      <th>Kms_Driven</th>\n",
       "      <th>Fuel_Type</th>\n",
       "      <th>Seller_Type</th>\n",
       "      <th>Transmission</th>\n",
       "      <th>Owner</th>\n",
       "    </tr>\n",
       "  </thead>\n",
       "  <tbody>\n",
       "    <tr>\n",
       "      <th>0</th>\n",
       "      <td>ritz</td>\n",
       "      <td>2014</td>\n",
       "      <td>3.35</td>\n",
       "      <td>5.59</td>\n",
       "      <td>27000</td>\n",
       "      <td>Petrol</td>\n",
       "      <td>Dealer</td>\n",
       "      <td>Manual</td>\n",
       "      <td>0</td>\n",
       "    </tr>\n",
       "    <tr>\n",
       "      <th>1</th>\n",
       "      <td>sx4</td>\n",
       "      <td>2013</td>\n",
       "      <td>4.75</td>\n",
       "      <td>9.54</td>\n",
       "      <td>43000</td>\n",
       "      <td>Diesel</td>\n",
       "      <td>Dealer</td>\n",
       "      <td>Manual</td>\n",
       "      <td>0</td>\n",
       "    </tr>\n",
       "    <tr>\n",
       "      <th>2</th>\n",
       "      <td>ciaz</td>\n",
       "      <td>2017</td>\n",
       "      <td>7.25</td>\n",
       "      <td>9.85</td>\n",
       "      <td>6900</td>\n",
       "      <td>Petrol</td>\n",
       "      <td>Dealer</td>\n",
       "      <td>Manual</td>\n",
       "      <td>0</td>\n",
       "    </tr>\n",
       "    <tr>\n",
       "      <th>3</th>\n",
       "      <td>wagon r</td>\n",
       "      <td>2011</td>\n",
       "      <td>2.85</td>\n",
       "      <td>4.15</td>\n",
       "      <td>5200</td>\n",
       "      <td>Petrol</td>\n",
       "      <td>Dealer</td>\n",
       "      <td>Manual</td>\n",
       "      <td>0</td>\n",
       "    </tr>\n",
       "    <tr>\n",
       "      <th>4</th>\n",
       "      <td>swift</td>\n",
       "      <td>2014</td>\n",
       "      <td>4.60</td>\n",
       "      <td>6.87</td>\n",
       "      <td>42450</td>\n",
       "      <td>Diesel</td>\n",
       "      <td>Dealer</td>\n",
       "      <td>Manual</td>\n",
       "      <td>0</td>\n",
       "    </tr>\n",
       "  </tbody>\n",
       "</table>\n",
       "</div>"
      ],
      "text/plain": [
       "  Car_Name  Year  Selling_Price  Present_Price  Kms_Driven Fuel_Type  \\\n",
       "0     ritz  2014           3.35           5.59       27000    Petrol   \n",
       "1      sx4  2013           4.75           9.54       43000    Diesel   \n",
       "2     ciaz  2017           7.25           9.85        6900    Petrol   \n",
       "3  wagon r  2011           2.85           4.15        5200    Petrol   \n",
       "4    swift  2014           4.60           6.87       42450    Diesel   \n",
       "\n",
       "  Seller_Type Transmission  Owner  \n",
       "0      Dealer       Manual      0  \n",
       "1      Dealer       Manual      0  \n",
       "2      Dealer       Manual      0  \n",
       "3      Dealer       Manual      0  \n",
       "4      Dealer       Manual      0  "
      ]
     },
     "execution_count": 4,
     "metadata": {},
     "output_type": "execute_result"
    }
   ],
   "source": [
    "df.head()"
   ]
  },
  {
   "cell_type": "code",
   "execution_count": 5,
   "id": "4a47a3b4",
   "metadata": {},
   "outputs": [],
   "source": [
    "df[\"Vehicle_Age\"] = 2021-df.Year"
   ]
  },
  {
   "cell_type": "code",
   "execution_count": 6,
   "id": "bcd95d75",
   "metadata": {},
   "outputs": [
    {
     "data": {
      "text/html": [
       "<div>\n",
       "<style scoped>\n",
       "    .dataframe tbody tr th:only-of-type {\n",
       "        vertical-align: middle;\n",
       "    }\n",
       "\n",
       "    .dataframe tbody tr th {\n",
       "        vertical-align: top;\n",
       "    }\n",
       "\n",
       "    .dataframe thead th {\n",
       "        text-align: right;\n",
       "    }\n",
       "</style>\n",
       "<table border=\"1\" class=\"dataframe\">\n",
       "  <thead>\n",
       "    <tr style=\"text-align: right;\">\n",
       "      <th></th>\n",
       "      <th>Car_Name</th>\n",
       "      <th>Year</th>\n",
       "      <th>Selling_Price</th>\n",
       "      <th>Present_Price</th>\n",
       "      <th>Kms_Driven</th>\n",
       "      <th>Fuel_Type</th>\n",
       "      <th>Seller_Type</th>\n",
       "      <th>Transmission</th>\n",
       "      <th>Owner</th>\n",
       "      <th>Vehicle_Age</th>\n",
       "    </tr>\n",
       "  </thead>\n",
       "  <tbody>\n",
       "    <tr>\n",
       "      <th>0</th>\n",
       "      <td>ritz</td>\n",
       "      <td>2014</td>\n",
       "      <td>3.35</td>\n",
       "      <td>5.59</td>\n",
       "      <td>27000</td>\n",
       "      <td>Petrol</td>\n",
       "      <td>Dealer</td>\n",
       "      <td>Manual</td>\n",
       "      <td>0</td>\n",
       "      <td>7</td>\n",
       "    </tr>\n",
       "    <tr>\n",
       "      <th>1</th>\n",
       "      <td>sx4</td>\n",
       "      <td>2013</td>\n",
       "      <td>4.75</td>\n",
       "      <td>9.54</td>\n",
       "      <td>43000</td>\n",
       "      <td>Diesel</td>\n",
       "      <td>Dealer</td>\n",
       "      <td>Manual</td>\n",
       "      <td>0</td>\n",
       "      <td>8</td>\n",
       "    </tr>\n",
       "    <tr>\n",
       "      <th>2</th>\n",
       "      <td>ciaz</td>\n",
       "      <td>2017</td>\n",
       "      <td>7.25</td>\n",
       "      <td>9.85</td>\n",
       "      <td>6900</td>\n",
       "      <td>Petrol</td>\n",
       "      <td>Dealer</td>\n",
       "      <td>Manual</td>\n",
       "      <td>0</td>\n",
       "      <td>4</td>\n",
       "    </tr>\n",
       "    <tr>\n",
       "      <th>3</th>\n",
       "      <td>wagon r</td>\n",
       "      <td>2011</td>\n",
       "      <td>2.85</td>\n",
       "      <td>4.15</td>\n",
       "      <td>5200</td>\n",
       "      <td>Petrol</td>\n",
       "      <td>Dealer</td>\n",
       "      <td>Manual</td>\n",
       "      <td>0</td>\n",
       "      <td>10</td>\n",
       "    </tr>\n",
       "    <tr>\n",
       "      <th>4</th>\n",
       "      <td>swift</td>\n",
       "      <td>2014</td>\n",
       "      <td>4.60</td>\n",
       "      <td>6.87</td>\n",
       "      <td>42450</td>\n",
       "      <td>Diesel</td>\n",
       "      <td>Dealer</td>\n",
       "      <td>Manual</td>\n",
       "      <td>0</td>\n",
       "      <td>7</td>\n",
       "    </tr>\n",
       "  </tbody>\n",
       "</table>\n",
       "</div>"
      ],
      "text/plain": [
       "  Car_Name  Year  Selling_Price  Present_Price  Kms_Driven Fuel_Type  \\\n",
       "0     ritz  2014           3.35           5.59       27000    Petrol   \n",
       "1      sx4  2013           4.75           9.54       43000    Diesel   \n",
       "2     ciaz  2017           7.25           9.85        6900    Petrol   \n",
       "3  wagon r  2011           2.85           4.15        5200    Petrol   \n",
       "4    swift  2014           4.60           6.87       42450    Diesel   \n",
       "\n",
       "  Seller_Type Transmission  Owner  Vehicle_Age  \n",
       "0      Dealer       Manual      0            7  \n",
       "1      Dealer       Manual      0            8  \n",
       "2      Dealer       Manual      0            4  \n",
       "3      Dealer       Manual      0           10  \n",
       "4      Dealer       Manual      0            7  "
      ]
     },
     "execution_count": 6,
     "metadata": {},
     "output_type": "execute_result"
    }
   ],
   "source": [
    "df.head()"
   ]
  },
  {
   "cell_type": "code",
   "execution_count": 7,
   "id": "110bbdcb",
   "metadata": {},
   "outputs": [],
   "source": [
    "df.drop(columns=[\"Car_Name\", \"Year\"], inplace=True)"
   ]
  },
  {
   "cell_type": "code",
   "execution_count": 8,
   "id": "fbeddce6",
   "metadata": {},
   "outputs": [
    {
     "data": {
      "text/html": [
       "<div>\n",
       "<style scoped>\n",
       "    .dataframe tbody tr th:only-of-type {\n",
       "        vertical-align: middle;\n",
       "    }\n",
       "\n",
       "    .dataframe tbody tr th {\n",
       "        vertical-align: top;\n",
       "    }\n",
       "\n",
       "    .dataframe thead th {\n",
       "        text-align: right;\n",
       "    }\n",
       "</style>\n",
       "<table border=\"1\" class=\"dataframe\">\n",
       "  <thead>\n",
       "    <tr style=\"text-align: right;\">\n",
       "      <th></th>\n",
       "      <th>Selling_Price</th>\n",
       "      <th>Present_Price</th>\n",
       "      <th>Kms_Driven</th>\n",
       "      <th>Fuel_Type</th>\n",
       "      <th>Seller_Type</th>\n",
       "      <th>Transmission</th>\n",
       "      <th>Owner</th>\n",
       "      <th>Vehicle_Age</th>\n",
       "    </tr>\n",
       "  </thead>\n",
       "  <tbody>\n",
       "    <tr>\n",
       "      <th>0</th>\n",
       "      <td>3.35</td>\n",
       "      <td>5.59</td>\n",
       "      <td>27000</td>\n",
       "      <td>Petrol</td>\n",
       "      <td>Dealer</td>\n",
       "      <td>Manual</td>\n",
       "      <td>0</td>\n",
       "      <td>7</td>\n",
       "    </tr>\n",
       "    <tr>\n",
       "      <th>1</th>\n",
       "      <td>4.75</td>\n",
       "      <td>9.54</td>\n",
       "      <td>43000</td>\n",
       "      <td>Diesel</td>\n",
       "      <td>Dealer</td>\n",
       "      <td>Manual</td>\n",
       "      <td>0</td>\n",
       "      <td>8</td>\n",
       "    </tr>\n",
       "    <tr>\n",
       "      <th>2</th>\n",
       "      <td>7.25</td>\n",
       "      <td>9.85</td>\n",
       "      <td>6900</td>\n",
       "      <td>Petrol</td>\n",
       "      <td>Dealer</td>\n",
       "      <td>Manual</td>\n",
       "      <td>0</td>\n",
       "      <td>4</td>\n",
       "    </tr>\n",
       "    <tr>\n",
       "      <th>3</th>\n",
       "      <td>2.85</td>\n",
       "      <td>4.15</td>\n",
       "      <td>5200</td>\n",
       "      <td>Petrol</td>\n",
       "      <td>Dealer</td>\n",
       "      <td>Manual</td>\n",
       "      <td>0</td>\n",
       "      <td>10</td>\n",
       "    </tr>\n",
       "    <tr>\n",
       "      <th>4</th>\n",
       "      <td>4.60</td>\n",
       "      <td>6.87</td>\n",
       "      <td>42450</td>\n",
       "      <td>Diesel</td>\n",
       "      <td>Dealer</td>\n",
       "      <td>Manual</td>\n",
       "      <td>0</td>\n",
       "      <td>7</td>\n",
       "    </tr>\n",
       "  </tbody>\n",
       "</table>\n",
       "</div>"
      ],
      "text/plain": [
       "   Selling_Price  Present_Price  Kms_Driven Fuel_Type Seller_Type  \\\n",
       "0           3.35           5.59       27000    Petrol      Dealer   \n",
       "1           4.75           9.54       43000    Diesel      Dealer   \n",
       "2           7.25           9.85        6900    Petrol      Dealer   \n",
       "3           2.85           4.15        5200    Petrol      Dealer   \n",
       "4           4.60           6.87       42450    Diesel      Dealer   \n",
       "\n",
       "  Transmission  Owner  Vehicle_Age  \n",
       "0       Manual      0            7  \n",
       "1       Manual      0            8  \n",
       "2       Manual      0            4  \n",
       "3       Manual      0           10  \n",
       "4       Manual      0            7  "
      ]
     },
     "execution_count": 8,
     "metadata": {},
     "output_type": "execute_result"
    }
   ],
   "source": [
    "df.head()"
   ]
  },
  {
   "cell_type": "code",
   "execution_count": 9,
   "id": "25104467",
   "metadata": {},
   "outputs": [],
   "source": [
    "df=pd.get_dummies(df, drop_first=True)"
   ]
  },
  {
   "cell_type": "code",
   "execution_count": 10,
   "id": "cf990111",
   "metadata": {},
   "outputs": [
    {
     "data": {
      "text/html": [
       "<div>\n",
       "<style scoped>\n",
       "    .dataframe tbody tr th:only-of-type {\n",
       "        vertical-align: middle;\n",
       "    }\n",
       "\n",
       "    .dataframe tbody tr th {\n",
       "        vertical-align: top;\n",
       "    }\n",
       "\n",
       "    .dataframe thead th {\n",
       "        text-align: right;\n",
       "    }\n",
       "</style>\n",
       "<table border=\"1\" class=\"dataframe\">\n",
       "  <thead>\n",
       "    <tr style=\"text-align: right;\">\n",
       "      <th></th>\n",
       "      <th>Selling_Price</th>\n",
       "      <th>Present_Price</th>\n",
       "      <th>Kms_Driven</th>\n",
       "      <th>Owner</th>\n",
       "      <th>Vehicle_Age</th>\n",
       "      <th>Fuel_Type_Diesel</th>\n",
       "      <th>Fuel_Type_Petrol</th>\n",
       "      <th>Seller_Type_Individual</th>\n",
       "      <th>Transmission_Manual</th>\n",
       "    </tr>\n",
       "  </thead>\n",
       "  <tbody>\n",
       "    <tr>\n",
       "      <th>0</th>\n",
       "      <td>3.35</td>\n",
       "      <td>5.59</td>\n",
       "      <td>27000</td>\n",
       "      <td>0</td>\n",
       "      <td>7</td>\n",
       "      <td>0</td>\n",
       "      <td>1</td>\n",
       "      <td>0</td>\n",
       "      <td>1</td>\n",
       "    </tr>\n",
       "    <tr>\n",
       "      <th>1</th>\n",
       "      <td>4.75</td>\n",
       "      <td>9.54</td>\n",
       "      <td>43000</td>\n",
       "      <td>0</td>\n",
       "      <td>8</td>\n",
       "      <td>1</td>\n",
       "      <td>0</td>\n",
       "      <td>0</td>\n",
       "      <td>1</td>\n",
       "    </tr>\n",
       "    <tr>\n",
       "      <th>2</th>\n",
       "      <td>7.25</td>\n",
       "      <td>9.85</td>\n",
       "      <td>6900</td>\n",
       "      <td>0</td>\n",
       "      <td>4</td>\n",
       "      <td>0</td>\n",
       "      <td>1</td>\n",
       "      <td>0</td>\n",
       "      <td>1</td>\n",
       "    </tr>\n",
       "    <tr>\n",
       "      <th>3</th>\n",
       "      <td>2.85</td>\n",
       "      <td>4.15</td>\n",
       "      <td>5200</td>\n",
       "      <td>0</td>\n",
       "      <td>10</td>\n",
       "      <td>0</td>\n",
       "      <td>1</td>\n",
       "      <td>0</td>\n",
       "      <td>1</td>\n",
       "    </tr>\n",
       "    <tr>\n",
       "      <th>4</th>\n",
       "      <td>4.60</td>\n",
       "      <td>6.87</td>\n",
       "      <td>42450</td>\n",
       "      <td>0</td>\n",
       "      <td>7</td>\n",
       "      <td>1</td>\n",
       "      <td>0</td>\n",
       "      <td>0</td>\n",
       "      <td>1</td>\n",
       "    </tr>\n",
       "  </tbody>\n",
       "</table>\n",
       "</div>"
      ],
      "text/plain": [
       "   Selling_Price  Present_Price  Kms_Driven  Owner  Vehicle_Age  \\\n",
       "0           3.35           5.59       27000      0            7   \n",
       "1           4.75           9.54       43000      0            8   \n",
       "2           7.25           9.85        6900      0            4   \n",
       "3           2.85           4.15        5200      0           10   \n",
       "4           4.60           6.87       42450      0            7   \n",
       "\n",
       "   Fuel_Type_Diesel  Fuel_Type_Petrol  Seller_Type_Individual  \\\n",
       "0                 0                 1                       0   \n",
       "1                 1                 0                       0   \n",
       "2                 0                 1                       0   \n",
       "3                 0                 1                       0   \n",
       "4                 1                 0                       0   \n",
       "\n",
       "   Transmission_Manual  \n",
       "0                    1  \n",
       "1                    1  \n",
       "2                    1  \n",
       "3                    1  \n",
       "4                    1  "
      ]
     },
     "execution_count": 10,
     "metadata": {},
     "output_type": "execute_result"
    }
   ],
   "source": [
    "df.head()"
   ]
  },
  {
   "cell_type": "code",
   "execution_count": 11,
   "id": "1dcd3fb6",
   "metadata": {},
   "outputs": [],
   "source": [
    "X=df.drop(\"Selling_Price\", axis=1)\n",
    "y=df.Selling_Price"
   ]
  },
  {
   "cell_type": "code",
   "execution_count": 13,
   "id": "e24bbfb6",
   "metadata": {},
   "outputs": [
    {
     "name": "stdout",
     "output_type": "stream",
     "text": [
      "Train features shape :  (240, 8)\n",
      "Train target shape   :  (240,)\n",
      "Test features shape  :  (61, 8)\n",
      "Test target shape    :  (61,)\n"
     ]
    }
   ],
   "source": [
    "from sklearn.model_selection import train_test_split\n",
    "X_train, X_test, y_train, y_test = train_test_split(X, y, test_size=0.2, random_state=5)\n",
    "print(\"Train features shape : \", X_train.shape)\n",
    "print(\"Train target shape   : \", y_train.shape)\n",
    "print(\"Test features shape  : \", X_test.shape)\n",
    "print(\"Test target shape    : \", y_test.shape)"
   ]
  },
  {
   "cell_type": "code",
   "execution_count": 14,
   "id": "1c992fdf",
   "metadata": {},
   "outputs": [],
   "source": [
    "from sklearn.linear_model import LinearRegression\n",
    "model = LinearRegression(normalize=True).fit(X_train, y_train)"
   ]
  },
  {
   "cell_type": "code",
   "execution_count": 15,
   "id": "7bff21f4",
   "metadata": {},
   "outputs": [
    {
     "data": {
      "text/plain": [
       "array([ 4.45257970e-01, -1.87067298e-05, -8.13577578e-01, -3.19047765e-01,\n",
       "        2.61924627e+00,  6.06486867e-01, -1.22016745e+00, -1.00868282e+00])"
      ]
     },
     "execution_count": 15,
     "metadata": {},
     "output_type": "execute_result"
    }
   ],
   "source": [
    "model.coef_"
   ]
  },
  {
   "cell_type": "code",
   "execution_count": 16,
   "id": "a7030cd4",
   "metadata": {},
   "outputs": [
    {
     "name": "stdout",
     "output_type": "stream",
     "text": [
      "Model intercept  :  4.604429051577005 \n",
      "\n",
      "Present_Price :  0.4452579698976288\n",
      "Kms_Driven :  -1.870672975702183e-05\n",
      "Owner :  -0.8135775776586671\n",
      "Vehicle_Age :  -0.31904776455888734\n",
      "Fuel_Type_Diesel :  2.6192462729450905\n",
      "Fuel_Type_Petrol :  0.6064868667913275\n",
      "Seller_Type_Individual :  -1.220167446042971\n",
      "Transmission_Manual :  -1.0086828216162687\n"
     ]
    }
   ],
   "source": [
    "print(\"Model intercept  : \", model.intercept_, \"\\n\")\n",
    "for i in range(len(X.columns)):\n",
    "    print(X.columns[i], \": \", model.coef_[i])"
   ]
  },
  {
   "cell_type": "code",
   "execution_count": 17,
   "id": "3b11ba5a",
   "metadata": {},
   "outputs": [
    {
     "data": {
      "text/html": [
       "<div>\n",
       "<style scoped>\n",
       "    .dataframe tbody tr th:only-of-type {\n",
       "        vertical-align: middle;\n",
       "    }\n",
       "\n",
       "    .dataframe tbody tr th {\n",
       "        vertical-align: top;\n",
       "    }\n",
       "\n",
       "    .dataframe thead th {\n",
       "        text-align: right;\n",
       "    }\n",
       "</style>\n",
       "<table border=\"1\" class=\"dataframe\">\n",
       "  <thead>\n",
       "    <tr style=\"text-align: right;\">\n",
       "      <th></th>\n",
       "      <th>Coefficient</th>\n",
       "    </tr>\n",
       "  </thead>\n",
       "  <tbody>\n",
       "    <tr>\n",
       "      <th>Present_Price</th>\n",
       "      <td>0.445258</td>\n",
       "    </tr>\n",
       "    <tr>\n",
       "      <th>Kms_Driven</th>\n",
       "      <td>-0.000019</td>\n",
       "    </tr>\n",
       "    <tr>\n",
       "      <th>Owner</th>\n",
       "      <td>-0.813578</td>\n",
       "    </tr>\n",
       "    <tr>\n",
       "      <th>Vehicle_Age</th>\n",
       "      <td>-0.319048</td>\n",
       "    </tr>\n",
       "    <tr>\n",
       "      <th>Fuel_Type_Diesel</th>\n",
       "      <td>2.619246</td>\n",
       "    </tr>\n",
       "    <tr>\n",
       "      <th>Fuel_Type_Petrol</th>\n",
       "      <td>0.606487</td>\n",
       "    </tr>\n",
       "    <tr>\n",
       "      <th>Seller_Type_Individual</th>\n",
       "      <td>-1.220167</td>\n",
       "    </tr>\n",
       "    <tr>\n",
       "      <th>Transmission_Manual</th>\n",
       "      <td>-1.008683</td>\n",
       "    </tr>\n",
       "  </tbody>\n",
       "</table>\n",
       "</div>"
      ],
      "text/plain": [
       "                        Coefficient\n",
       "Present_Price              0.445258\n",
       "Kms_Driven                -0.000019\n",
       "Owner                     -0.813578\n",
       "Vehicle_Age               -0.319048\n",
       "Fuel_Type_Diesel           2.619246\n",
       "Fuel_Type_Petrol           0.606487\n",
       "Seller_Type_Individual    -1.220167\n",
       "Transmission_Manual       -1.008683"
      ]
     },
     "execution_count": 17,
     "metadata": {},
     "output_type": "execute_result"
    }
   ],
   "source": [
    "coeff_df=pd.DataFrame(model.coef_, X.columns, columns=[\"Coefficient\"])\n",
    "coeff_df"
   ]
  },
  {
   "cell_type": "code",
   "execution_count": 18,
   "id": "056066f7",
   "metadata": {},
   "outputs": [],
   "source": [
    "from sklearn.metrics import r2_score, mean_absolute_error, mean_squared_error"
   ]
  },
  {
   "cell_type": "code",
   "execution_count": 19,
   "id": "b1e03cf8",
   "metadata": {},
   "outputs": [
    {
     "data": {
      "text/plain": [
       "array([10.70729552, 10.87520713,  4.43096899,  5.91337788,  2.54941855,\n",
       "        9.03674575,  7.2737809 ,  1.49360032, 16.02286635,  4.74188631,\n",
       "        6.7140433 ,  6.40320371,  3.4644454 ,  3.4148824 , -0.60954639,\n",
       "        4.17855023,  9.09429896, -0.30209302,  9.1878139 ,  1.18733586,\n",
       "        7.5000935 , 18.19046601, 19.54269265,  0.21434982,  2.15321632,\n",
       "        4.76671337,  4.95716413,  6.82822836,  5.23694236,  5.48340774,\n",
       "        4.36427226,  7.93602233,  5.74539229, -0.54343788,  0.66628503,\n",
       "        7.00623246,  7.3790224 ,  5.4235689 ,  1.17465734,  1.16263268,\n",
       "        2.06339611,  5.1531104 , 14.03667284, -9.2787032 ,  1.39494051,\n",
       "        3.97812269, -0.91681301,  8.44163201,  4.34565296,  4.84278586,\n",
       "        5.18366168, 16.39104119,  0.85271469,  1.65187499,  1.6335204 ,\n",
       "       -1.42292807,  2.85945813,  0.66521417, -1.75047375,  1.6120861 ,\n",
       "        0.6862596 ])"
      ]
     },
     "execution_count": 19,
     "metadata": {},
     "output_type": "execute_result"
    }
   ],
   "source": [
    "y_pred=model.predict(X_test)\n",
    "y_pred"
   ]
  },
  {
   "cell_type": "code",
   "execution_count": 20,
   "id": "7bb8e836",
   "metadata": {},
   "outputs": [],
   "source": [
    "rmse=(np.sqrt(mean_squared_error(y_test,y_pred)))\n",
    "mae=mean_absolute_error(y_test,y_pred)\n",
    "R2_score=r2_score(y_test,y_pred)"
   ]
  },
  {
   "cell_type": "code",
   "execution_count": 22,
   "id": "aaaf3a9a",
   "metadata": {},
   "outputs": [
    {
     "name": "stdout",
     "output_type": "stream",
     "text": [
      "Model testing performance:\n",
      "--------------------------\n",
      "RMSE is            1.9460540138874833\n",
      "MAE is             1.1811769157076817\n",
      "R2 score is        0.8589039971923134\n"
     ]
    }
   ],
   "source": [
    "print(\"Model testing performance:\")\n",
    "print(\"--------------------------\")\n",
    "print('RMSE is {:29}'.format(rmse))\n",
    "print(\"MAE is {:30}\".format(mae))\n",
    "print('R2 score is {:25}'.format(R2_score))"
   ]
  },
  {
   "cell_type": "code",
   "execution_count": 24,
   "id": "22251ee1",
   "metadata": {},
   "outputs": [
    {
     "data": {
      "image/png": "[encoded data removed]",
      "text/plain": [
       "<Figure size 576x396 with 1 Axes>"
      ]
     },
     "metadata": {},
     "output_type": "display_data"
    }
   ],
   "source": [
    "from yellowbrick.regressor import PredictionError\n",
    "# Instantiate the linear model and visualizer\n",
    "lm= LinearRegression(normalize=True)\n",
    "visualizer = PredictionError(model)\n",
    "visualizer.fit(X_train, y_train)  # Fit the training data to the visualizer\n",
    "visualizer.score(X_test, y_test)  # Evaluate the model on the test data\n",
    "visualizer.show();"
   ]
  },
  {
   "cell_type": "code",
   "execution_count": 25,
   "id": "460ced61",
   "metadata": {},
   "outputs": [
    {
     "data": {
      "text/html": [
       "<div>\n",
       "<style scoped>\n",
       "    .dataframe tbody tr th:only-of-type {\n",
       "        vertical-align: middle;\n",
       "    }\n",
       "\n",
       "    .dataframe tbody tr th {\n",
       "        vertical-align: top;\n",
       "    }\n",
       "\n",
       "    .dataframe thead th {\n",
       "        text-align: right;\n",
       "    }\n",
       "</style>\n",
       "<table border=\"1\" class=\"dataframe\">\n",
       "  <thead>\n",
       "    <tr style=\"text-align: right;\">\n",
       "      <th></th>\n",
       "      <th>Actual</th>\n",
       "      <th>Predicted</th>\n",
       "    </tr>\n",
       "  </thead>\n",
       "  <tbody>\n",
       "    <tr>\n",
       "      <th>67</th>\n",
       "      <td>9.25</td>\n",
       "      <td>10.707296</td>\n",
       "    </tr>\n",
       "    <tr>\n",
       "      <th>99</th>\n",
       "      <td>9.65</td>\n",
       "      <td>10.875207</td>\n",
       "    </tr>\n",
       "    <tr>\n",
       "      <th>266</th>\n",
       "      <td>3.65</td>\n",
       "      <td>4.430969</td>\n",
       "    </tr>\n",
       "    <tr>\n",
       "      <th>222</th>\n",
       "      <td>6.00</td>\n",
       "      <td>5.913378</td>\n",
       "    </tr>\n",
       "    <tr>\n",
       "      <th>24</th>\n",
       "      <td>2.90</td>\n",
       "      <td>2.549419</td>\n",
       "    </tr>\n",
       "    <tr>\n",
       "      <th>282</th>\n",
       "      <td>8.25</td>\n",
       "      <td>9.036746</td>\n",
       "    </tr>\n",
       "    <tr>\n",
       "      <th>279</th>\n",
       "      <td>6.25</td>\n",
       "      <td>7.273781</td>\n",
       "    </tr>\n",
       "    <tr>\n",
       "      <th>138</th>\n",
       "      <td>0.60</td>\n",
       "      <td>1.493600</td>\n",
       "    </tr>\n",
       "    <tr>\n",
       "      <th>50</th>\n",
       "      <td>14.90</td>\n",
       "      <td>16.022866</td>\n",
       "    </tr>\n",
       "    <tr>\n",
       "      <th>234</th>\n",
       "      <td>5.50</td>\n",
       "      <td>4.741886</td>\n",
       "    </tr>\n",
       "    <tr>\n",
       "      <th>43</th>\n",
       "      <td>5.50</td>\n",
       "      <td>6.714043</td>\n",
       "    </tr>\n",
       "    <tr>\n",
       "      <th>265</th>\n",
       "      <td>6.50</td>\n",
       "      <td>6.403204</td>\n",
       "    </tr>\n",
       "    <tr>\n",
       "      <th>88</th>\n",
       "      <td>3.45</td>\n",
       "      <td>3.464445</td>\n",
       "    </tr>\n",
       "    <tr>\n",
       "      <th>84</th>\n",
       "      <td>3.49</td>\n",
       "      <td>3.414882</td>\n",
       "    </tr>\n",
       "    <tr>\n",
       "      <th>163</th>\n",
       "      <td>0.45</td>\n",
       "      <td>-0.609546</td>\n",
       "    </tr>\n",
       "    <tr>\n",
       "      <th>220</th>\n",
       "      <td>3.50</td>\n",
       "      <td>4.178550</td>\n",
       "    </tr>\n",
       "    <tr>\n",
       "      <th>98</th>\n",
       "      <td>7.05</td>\n",
       "      <td>9.094299</td>\n",
       "    </tr>\n",
       "    <tr>\n",
       "      <th>176</th>\n",
       "      <td>0.35</td>\n",
       "      <td>-0.302093</td>\n",
       "    </tr>\n",
       "    <tr>\n",
       "      <th>60</th>\n",
       "      <td>6.95</td>\n",
       "      <td>9.187814</td>\n",
       "    </tr>\n",
       "    <tr>\n",
       "      <th>171</th>\n",
       "      <td>0.40</td>\n",
       "      <td>1.187336</td>\n",
       "    </tr>\n",
       "    <tr>\n",
       "      <th>90</th>\n",
       "      <td>3.80</td>\n",
       "      <td>7.500093</td>\n",
       "    </tr>\n",
       "    <tr>\n",
       "      <th>93</th>\n",
       "      <td>23.00</td>\n",
       "      <td>18.190466</td>\n",
       "    </tr>\n",
       "    <tr>\n",
       "      <th>62</th>\n",
       "      <td>18.75</td>\n",
       "      <td>19.542693</td>\n",
       "    </tr>\n",
       "    <tr>\n",
       "      <th>123</th>\n",
       "      <td>1.00</td>\n",
       "      <td>0.214350</td>\n",
       "    </tr>\n",
       "    <tr>\n",
       "      <th>42</th>\n",
       "      <td>1.95</td>\n",
       "      <td>2.153216</td>\n",
       "    </tr>\n",
       "  </tbody>\n",
       "</table>\n",
       "</div>"
      ],
      "text/plain": [
       "     Actual  Predicted\n",
       "67     9.25  10.707296\n",
       "99     9.65  10.875207\n",
       "266    3.65   4.430969\n",
       "222    6.00   5.913378\n",
       "24     2.90   2.549419\n",
       "282    8.25   9.036746\n",
       "279    6.25   7.273781\n",
       "138    0.60   1.493600\n",
       "50    14.90  16.022866\n",
       "234    5.50   4.741886\n",
       "43     5.50   6.714043\n",
       "265    6.50   6.403204\n",
       "88     3.45   3.464445\n",
       "84     3.49   3.414882\n",
       "163    0.45  -0.609546\n",
       "220    3.50   4.178550\n",
       "98     7.05   9.094299\n",
       "176    0.35  -0.302093\n",
       "60     6.95   9.187814\n",
       "171    0.40   1.187336\n",
       "90     3.80   7.500093\n",
       "93    23.00  18.190466\n",
       "62    18.75  19.542693\n",
       "123    1.00   0.214350\n",
       "42     1.95   2.153216"
      ]
     },
     "execution_count": 25,
     "metadata": {},
     "output_type": "execute_result"
    }
   ],
   "source": [
    "results = pd.DataFrame({'Actual': y_test, 'Predicted': y_pred})\n",
    "result_sample = results.head(25)\n",
    "result_sample"
   ]
  },
  {
   "cell_type": "code",
   "execution_count": 26,
   "id": "a84ed779",
   "metadata": {},
   "outputs": [
    {
     "data": {
      "image/png": "[encoded data removed]",
      "text/plain": [
       "<Figure size 1080x648 with 1 Axes>"
      ]
     },
     "metadata": {},
     "output_type": "display_data"
    }
   ],
   "source": [
    "result_sample.plot(kind='bar',figsize=(15,9))\n",
    "plt.grid(linestyle=':', linewidth='0.5', color='green')\n",
    "plt.show()"
   ]
  },
  {
   "cell_type": "code",
   "execution_count": 34,
   "id": "e68a9f86",
   "metadata": {},
   "outputs": [],
   "source": [
    "def show_metrics(y_test, y_pred):\n",
    "    rmse=(np.sqrt(mean_squared_error(y_test,y_pred)))\n",
    "    mae=mean_absolute_error(y_test,y_pred)\n",
    "    R2_score=r2_score(y_test,y_pred)\n",
    "    print(\"Model testing performance:\")\n",
    "    print(\"--------------------------\")\n",
    "    print('RMSE is {:29}'.format(rmse))\n",
    "    print(\"MAE is {:30}\".format(mae))\n",
    "    print('R2 score is {:25}'.format(R2_score))"
   ]
  },
  {
   "cell_type": "code",
   "execution_count": 30,
   "id": "74736801",
   "metadata": {},
   "outputs": [],
   "source": [
    "from sklearn.linear_model import Ridge, RidgeCV\n",
    "from sklearn.preprocessing import MinMaxScaler"
   ]
  },
  {
   "cell_type": "code",
   "execution_count": 31,
   "id": "aa43a12d",
   "metadata": {},
   "outputs": [],
   "source": [
    "scaler=MinMaxScaler()\n",
    "scaler.fit(X_train)\n",
    "X_train=scaler.transform(X_train)\n",
    "X_test=scaler.transform(X_test)"
   ]
  },
  {
   "cell_type": "code",
   "execution_count": 32,
   "id": "dded9be7",
   "metadata": {},
   "outputs": [],
   "source": [
    "ridge_model = Ridge()\n",
    "ridge_model.fit(X_train, y_train)\n",
    "y_pred = ridge_model.predict(X_test)"
   ]
  },
  {
   "cell_type": "code",
   "execution_count": 35,
   "id": "dbf18743",
   "metadata": {},
   "outputs": [
    {
     "name": "stdout",
     "output_type": "stream",
     "text": [
      "Model testing performance:\n",
      "--------------------------\n",
      "RMSE is            1.9026594573849422\n",
      "MAE is             1.1854250171898177\n",
      "R2 score is        0.8651263662232391\n"
     ]
    }
   ],
   "source": [
    "show_metrics(y_test, y_pred)"
   ]
  },
  {
   "cell_type": "code",
   "execution_count": null,
   "id": "941bbddf",
   "metadata": {},
   "outputs": [],
   "source": []
  },
  {
   "cell_type": "code",
   "execution_count": 36,
   "id": "649c153f",
   "metadata": {},
   "outputs": [
    {
     "data": {
      "text/plain": [
       "array([ 0.1       ,  0.3010101 ,  0.5020202 ,  0.7030303 ,  0.9040404 ,\n",
       "        1.10505051,  1.30606061,  1.50707071,  1.70808081,  1.90909091,\n",
       "        2.11010101,  2.31111111,  2.51212121,  2.71313131,  2.91414141,\n",
       "        3.11515152,  3.31616162,  3.51717172,  3.71818182,  3.91919192,\n",
       "        4.12020202,  4.32121212,  4.52222222,  4.72323232,  4.92424242,\n",
       "        5.12525253,  5.32626263,  5.52727273,  5.72828283,  5.92929293,\n",
       "        6.13030303,  6.33131313,  6.53232323,  6.73333333,  6.93434343,\n",
       "        7.13535354,  7.33636364,  7.53737374,  7.73838384,  7.93939394,\n",
       "        8.14040404,  8.34141414,  8.54242424,  8.74343434,  8.94444444,\n",
       "        9.14545455,  9.34646465,  9.54747475,  9.74848485,  9.94949495,\n",
       "       10.15050505, 10.35151515, 10.55252525, 10.75353535, 10.95454545,\n",
       "       11.15555556, 11.35656566, 11.55757576, 11.75858586, 11.95959596,\n",
       "       12.16060606, 12.36161616, 12.56262626, 12.76363636, 12.96464646,\n",
       "       13.16565657, 13.36666667, 13.56767677, 13.76868687, 13.96969697,\n",
       "       14.17070707, 14.37171717, 14.57272727, 14.77373737, 14.97474747,\n",
       "       15.17575758, 15.37676768, 15.57777778, 15.77878788, 15.97979798,\n",
       "       16.18080808, 16.38181818, 16.58282828, 16.78383838, 16.98484848,\n",
       "       17.18585859, 17.38686869, 17.58787879, 17.78888889, 17.98989899,\n",
       "       18.19090909, 18.39191919, 18.59292929, 18.79393939, 18.99494949,\n",
       "       19.1959596 , 19.3969697 , 19.5979798 , 19.7989899 , 20.        ])"
      ]
     },
     "execution_count": 36,
     "metadata": {},
     "output_type": "execute_result"
    }
   ],
   "source": [
    "alpha_space = np.linspace(0.1, 20, 100)\n",
    "alpha_space"
   ]
  },
  {
   "cell_type": "code",
   "execution_count": 37,
   "id": "8455826f",
   "metadata": {},
   "outputs": [
    {
     "data": {
      "text/plain": [
       "RidgeCV(alphas=array([ 0.1       ,  0.3010101 ,  0.5020202 ,  0.7030303 ,  0.9040404 ,\n",
       "        1.10505051,  1.30606061,  1.50707071,  1.70808081,  1.90909091,\n",
       "        2.11010101,  2.31111111,  2.51212121,  2.71313131,  2.91414141,\n",
       "        3.11515152,  3.31616162,  3.51717172,  3.71818182,  3.91919192,\n",
       "        4.12020202,  4.32121212,  4.52222222,  4.72323232,  4.92424242,\n",
       "        5.12525253,  5.32626263,  5.52727273,  5.72828283,  5.92929293,\n",
       "        6.1303030...\n",
       "       14.17070707, 14.37171717, 14.57272727, 14.77373737, 14.97474747,\n",
       "       15.17575758, 15.37676768, 15.57777778, 15.77878788, 15.97979798,\n",
       "       16.18080808, 16.38181818, 16.58282828, 16.78383838, 16.98484848,\n",
       "       17.18585859, 17.38686869, 17.58787879, 17.78888889, 17.98989899,\n",
       "       18.19090909, 18.39191919, 18.59292929, 18.79393939, 18.99494949,\n",
       "       19.1959596 , 19.3969697 , 19.5979798 , 19.7989899 , 20.        ]),\n",
       "        cv=10)"
      ]
     },
     "execution_count": 37,
     "metadata": {},
     "output_type": "execute_result"
    }
   ],
   "source": [
    "ridgecv = RidgeCV(alphas=alpha_space, cv=10)\n",
    "ridgecv.fit(X_train, y_train)"
   ]
  },
  {
   "cell_type": "code",
   "execution_count": 38,
   "id": "4c38dcc8",
   "metadata": {},
   "outputs": [
    {
     "data": {
      "text/plain": [
       "0.1"
      ]
     },
     "execution_count": 38,
     "metadata": {},
     "output_type": "execute_result"
    }
   ],
   "source": [
    "ridgecv.alpha_"
   ]
  },
  {
   "cell_type": "code",
   "execution_count": 39,
   "id": "1cc916b2",
   "metadata": {},
   "outputs": [
    {
     "data": {
      "text/plain": [
       "RidgeCV(alphas=array([1.00000000e-02, 2.11919192e-01, 4.13838384e-01, 6.15757576e-01,\n",
       "       8.17676768e-01, 1.01959596e+00, 1.22151515e+00, 1.42343434e+00,\n",
       "       1.62535354e+00, 1.82727273e+00, 2.02919192e+00, 2.23111111e+00,\n",
       "       2.43303030e+00, 2.63494949e+00, 2.83686869e+00, 3.03878788e+00,\n",
       "       3.24070707e+00, 3.44262626e+00, 3.64454545e+00, 3.84646465e+00,\n",
       "       4.04838384e+00, 4.25030303e+0...\n",
       "       1.53558586e+01, 1.55577778e+01, 1.57596970e+01, 1.59616162e+01,\n",
       "       1.61635354e+01, 1.63654545e+01, 1.65673737e+01, 1.67692929e+01,\n",
       "       1.69712121e+01, 1.71731313e+01, 1.73750505e+01, 1.75769697e+01,\n",
       "       1.77788889e+01, 1.79808081e+01, 1.81827273e+01, 1.83846465e+01,\n",
       "       1.85865657e+01, 1.87884848e+01, 1.89904040e+01, 1.91923232e+01,\n",
       "       1.93942424e+01, 1.95961616e+01, 1.97980808e+01, 2.00000000e+01]),\n",
       "        cv=10)"
      ]
     },
     "execution_count": 39,
     "metadata": {},
     "output_type": "execute_result"
    }
   ],
   "source": [
    "alpha_space = np.linspace(0.01, 20, 100)\n",
    "ridgecv = RidgeCV(alphas=alpha_space, cv=10)\n",
    "ridgecv.fit(X_train, y_train)"
   ]
  },
  {
   "cell_type": "code",
   "execution_count": 40,
   "id": "4fd37b9a",
   "metadata": {},
   "outputs": [
    {
     "data": {
      "text/plain": [
       "0.21191919191919192"
      ]
     },
     "execution_count": 40,
     "metadata": {},
     "output_type": "execute_result"
    }
   ],
   "source": [
    "ridgecv.alpha_"
   ]
  },
  {
   "cell_type": "code",
   "execution_count": 41,
   "id": "b1612d5c",
   "metadata": {},
   "outputs": [
    {
     "data": {
      "image/png": "[encoded data removed]",
      "text/plain": [
       "<Figure size 576x396 with 1 Axes>"
      ]
     },
     "metadata": {},
     "output_type": "display_data"
    },
    {
     "data": {
      "text/plain": [
       "<AxesSubplot:title={'center':'Ridge Alpha Error'}, xlabel='alpha', ylabel='error (or score)'>"
      ]
     },
     "execution_count": 41,
     "metadata": {},
     "output_type": "execute_result"
    }
   ],
   "source": [
    "from yellowbrick.regressor import ManualAlphaSelection\n",
    "# Create a list of alphas to cross-validate against\n",
    "alpha_space = np.linspace(0.01, 10, 100)\n",
    "# Instantiate the visualizer\n",
    "visualizer = ManualAlphaSelection(\n",
    "    Ridge(),\n",
    "    alphas=alpha_space,\n",
    "    cv=10\n",
    ")\n",
    "visualizer.fit(X_train, y_train)\n",
    "visualizer.show()"
   ]
  },
  {
   "cell_type": "code",
   "execution_count": 42,
   "id": "2b9da95b",
   "metadata": {},
   "outputs": [
    {
     "name": "stdout",
     "output_type": "stream",
     "text": [
      "Model testing performance:\n",
      "--------------------------\n",
      "RMSE is            1.8181007089470476\n",
      "MAE is             1.1382482865552852\n",
      "R2 score is        0.8768481890690062\n"
     ]
    }
   ],
   "source": [
    "y_pred=ridgecv.predict(X_test)\n",
    "show_metrics(y_test, y_pred)"
   ]
  },
  {
   "cell_type": "code",
   "execution_count": 43,
   "id": "8b316cea",
   "metadata": {},
   "outputs": [
    {
     "data": {
      "image/png": "[encoded data removed]",
      "text/plain": [
       "<Figure size 576x396 with 1 Axes>"
      ]
     },
     "metadata": {},
     "output_type": "display_data"
    },
    {
     "data": {
      "text/plain": [
       "<AxesSubplot:title={'center':'Feature Importances of 8 Features using Ridge'}, xlabel='coefficient value'>"
      ]
     },
     "execution_count": 43,
     "metadata": {},
     "output_type": "execute_result"
    }
   ],
   "source": [
    "from yellowbrick.model_selection import FeatureImportances\n",
    "# Load the regression dataset\n",
    "# Title case the feature for better display and create the visualizer\n",
    "labels = list(map(lambda s: s.title(), X.columns))\n",
    "viz = FeatureImportances(ridge_model, labels=labels, relative=False)\n",
    "# Fit and show the feature importances\n",
    "viz.fit(X_train, y_train)\n",
    "viz.show()"
   ]
  },
  {
   "cell_type": "code",
   "execution_count": 44,
   "id": "d4ad7e76",
   "metadata": {},
   "outputs": [],
   "source": [
    "from sklearn.linear_model import Lasso\n",
    "from sklearn.linear_model import LassoCV"
   ]
  },
  {
   "cell_type": "code",
   "execution_count": 45,
   "id": "7f60d7ac",
   "metadata": {},
   "outputs": [
    {
     "name": "stdout",
     "output_type": "stream",
     "text": [
      "Model testing performance:\n",
      "--------------------------\n",
      "RMSE is             4.844430603529284\n",
      "MAE is             3.1983166124538154\n",
      "R2 score is       0.12563974476813822\n"
     ]
    }
   ],
   "source": [
    "lasso_model = Lasso()\n",
    "lasso_model.fit(X_train, y_train)\n",
    "y_pred = lasso_model.predict(X_test)\n",
    "show_metrics(y_test,y_pred)"
   ]
  },
  {
   "cell_type": "code",
   "execution_count": 46,
   "id": "7c5813dc",
   "metadata": {},
   "outputs": [],
   "source": [
    "alpha_space = np.linspace(0.001, 10, 100)\n",
    "lasso_cv_model = LassoCV(alphas = alpha_space, cv = 10).fit(X_train, y_train)"
   ]
  },
  {
   "cell_type": "code",
   "execution_count": 47,
   "id": "87734f6c",
   "metadata": {},
   "outputs": [
    {
     "name": "stdout",
     "output_type": "stream",
     "text": [
      "Model testing performance:\n",
      "--------------------------\n",
      "RMSE is            1.9323214066935661\n",
      "MAE is             1.1726681712627112\n",
      "R2 score is        0.8608882992084925\n"
     ]
    }
   ],
   "source": [
    "y_pred=lasso_cv_model.predict(X_test)\n",
    "show_metrics(y_test,y_pred)"
   ]
  },
  {
   "cell_type": "code",
   "execution_count": 48,
   "id": "6f86cba0",
   "metadata": {},
   "outputs": [
    {
     "data": {
      "text/plain": [
       "0.001"
      ]
     },
     "execution_count": 48,
     "metadata": {},
     "output_type": "execute_result"
    }
   ],
   "source": [
    "lasso_cv_model.alpha_"
   ]
  },
  {
   "cell_type": "code",
   "execution_count": null,
   "id": "43bd64c4",
   "metadata": {},
   "outputs": [],
   "source": []
  },
  {
   "cell_type": "code",
   "execution_count": null,
   "id": "f4b55662",
   "metadata": {},
   "outputs": [],
   "source": []
  },
  {
   "cell_type": "code",
   "execution_count": null,
   "id": "07cfe1e5",
   "metadata": {},
   "outputs": [],
   "source": []
  },
  {
   "cell_type": "code",
   "execution_count": null,
   "id": "01d3301d",
   "metadata": {},
   "outputs": [],
   "source": []
  },
  {
   "cell_type": "code",
   "execution_count": null,
   "id": "187265f4",
   "metadata": {},
   "outputs": [],
   "source": []
  }
 ],
 "metadata": {
  "kernelspec": {
   "display_name": "Python 3",
   "language": "python",
   "name": "python3"
  },
  "language_info": {
   "codemirror_mode": {
    "name": "ipython",
    "version": 3
   },
   "file_extension": ".py",
   "mimetype": "text/x-python",
   "name": "python",
   "nbconvert_exporter": "python",
   "pygments_lexer": "ipython3",
   "version": "3.8.8"
  }
 },
 "nbformat": 4,
 "nbformat_minor": 5
}
